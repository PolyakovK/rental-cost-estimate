{
 "cells": [
  {
   "cell_type": "code",
   "execution_count": 332,
   "metadata": {},
   "outputs": [],
   "source": [
    "import pandas as pd\n",
    "import numpy as np\n",
    "import matplotlib.pyplot as plt\n",
    "from currency_converter import CurrencyConverter\n",
    "import datetime\n",
    "from forex_python.converter import CurrencyRates\n",
    "\n",
    "pd.set_option('display.max_columns', 100)\n",
    "pd.set_option('display.max_rows', 100)"
   ]
  },
  {
   "cell_type": "code",
   "execution_count": 333,
   "metadata": {},
   "outputs": [],
   "source": [
    "df = pd.read_csv('https://drive.google.com/uc?export=download&id=130KYOX8O4wrP_T8vdz2GfvJRQ03ONmE7', index_col=0)"
   ]
  },
  {
   "cell_type": "markdown",
   "metadata": {},
   "source": [
    "#### 1. Удаление дубликатов и стобцов, которые могут быть не важны для исследования.  \n",
    "   \n",
    "Парковка - пропущено 13417 из 23368 - 57,4%  \n",
    "Название ЖК - пропущено 17520 из 23368 - 74,9%  \n",
    "Серия дома - пропущено 21205 из 23368 - 90,7%  \n",
    "Высота потолков, м  - пропущено 12162 из 23368 - 52%   \n",
    "Мусоропровод - пропущено 10522 из 23368 - 45%  \n",
    "\n",
    "Тип, Телефоны, Ссылка на объявление, площадь комнат, описание - параметры, не влияющие на стоимость"
   ]
  },
  {
   "cell_type": "code",
   "execution_count": 334,
   "metadata": {},
   "outputs": [],
   "source": [
    "# Удаляем дубликаты по ID \n",
    "df = df.drop_duplicates(subset=['ID  объявления'], keep='first').reset_index(drop = True)"
   ]
  },
  {
   "cell_type": "code",
   "execution_count": 335,
   "metadata": {},
   "outputs": [],
   "source": [
    "df = df.drop(['Парковка', 'Название ЖК', 'Серия дома', 'Высота потолков, м', 'Мусоропровод', 'Тип', 'Телефоны', 'Ссылка на объявление', 'Площадь комнат, м2', 'Описание'], axis = 1)"
   ]
  },
  {
   "cell_type": "markdown",
   "metadata": {},
   "source": [
    "#### 2. Чистка данных  \n",
    "  \n",
    "* Работа с пропусками\n",
    "* Фильтрация колонок\n",
    "* Создание новых колонок\n",
    "* Переименование колонок"
   ]
  },
  {
   "cell_type": "code",
   "execution_count": 336,
   "metadata": {},
   "outputs": [],
   "source": [
    "# Кол-во комнат удаляем информацию про тип, оставляем только цифру, заполняем пропуски медианой\n",
    "df['Количество комнат'] = df['Количество комнат'].apply(lambda x: int(x.split(', ')[0]) if isinstance(x, str) and ', ' in x else x)\n",
    "df['Количество комнат']= df['Количество комнат'].fillna(df['Количество комнат'].median())\n",
    "df.rename(columns={'Количество комнат': 'number_of_rooms'}, inplace=True)\n"
   ]
  },
  {
   "cell_type": "code",
   "execution_count": 337,
   "metadata": {},
   "outputs": [],
   "source": [
    "#Признак метро делим на два, Метро и время в пути\n",
    "df.insert(loc=3, column='travel_time', value=[1] * len(df))\n",
    "df['Метро'] = df['Метро'].fillna(df['Метро'].mode()[0])\n",
    "\n",
    "# Обработка столбца 'Метро', деление на два столбца: 'metro' и 'travel_time'\n",
    "def split_metro(row):\n",
    "    if isinstance(row, str) and ' (' in row:\n",
    "        return row.split(' (')[1].replace(')', '')\n",
    "    else:\n",
    "        return np.nan\n",
    "\n",
    "df['travel_time'] = df['Метро'].apply(split_metro)\n",
    "df['Метро'] = df['Метро'].apply(lambda row: row.split(' (')[0] if isinstance(row, str) and ' (' in row else row)\n",
    "df.rename(columns={'Метро': 'metro'}, inplace=True)\n"
   ]
  },
  {
   "cell_type": "code",
   "execution_count": 338,
   "metadata": {},
   "outputs": [],
   "source": [
    "# Пропусков в адресах нет, просто переименовываем и удаляем все строки, в которых указан другой город\n",
    "df.rename(columns={'Адрес': 'address'}, inplace=True)\n",
    "df = df[df['address'].str.contains(\"Москва\")].reset_index(drop = True)"
   ]
  },
  {
   "cell_type": "code",
   "execution_count": 339,
   "metadata": {},
   "outputs": [],
   "source": [
    "# Обрабатываем колонку с площадью, берём только общую площадь\n",
    "df['Площадь, м2'] = [row.split('/')[0] for row in df['Площадь, м2']]\n",
    "df.rename(columns={'Площадь, м2': 'square_m2'}, inplace=True)"
   ]
  },
  {
   "cell_type": "code",
   "execution_count": 340,
   "metadata": {},
   "outputs": [],
   "source": [
    "# Разбиваем колонку дом\n",
    "df['floor'] = [int(row.split('/')[0]) for row in df['Дом']]\n",
    "df['floors'] = [int(row.split('/')[1].split(',')[0]) for row in df['Дом']]\n",
    "df = df.drop(['Дом'], axis = 1)"
   ]
  },
  {
   "cell_type": "code",
   "execution_count": 341,
   "metadata": {},
   "outputs": [],
   "source": [
    "# Из информации о цене достаем стоимость за месяц + депозит, и удаляем старый столбец\n",
    "df['rent_price'] = [(row.split('/')[0]) for row in df['Цена']]\n",
    "# df['deposit'] = [(row.split(' - ')[1].split(',')[0]) for row in df['Цена']]\n",
    "df['deposit'] = [row.split(' - ')[1].split(',')[0] if 'Залог' in row else '0' for row in df['Цена']]\n",
    "\n",
    "df = df.drop(['Цена'], axis = 1)"
   ]
  },
  {
   "cell_type": "code",
   "execution_count": 342,
   "metadata": {},
   "outputs": [],
   "source": [
    "# Конвертация в рубли и приведение к интовому значению\n",
    "\n",
    "import json\n",
    "import requests\n",
    "import re\n",
    "\n",
    "url = (\"https://iss.moex.com/iss/engines/currency/markets/selt/securities.jsonp?\"\n",
    "       \"iss.only=securities,marketdata&\"\n",
    "       \"securities=CETS:USD000UTSTOM,CETS:EUR_RUB__TOM&\"\n",
    "       \"lang=ru&iss.meta=off&iss.json=extended&callback=angular.callbacks._gk\")\n",
    "data = requests.get(url)\n",
    "\n",
    "# Обрежем лишнее (вызов функции и переводы строк)\n",
    "text = data.text[22:len(data.text)-1:]\n",
    "text = re.sub(r'\\n', \"\", text)\n",
    "\n",
    "json_string = json.loads(text)\n",
    "list_price = []\n",
    "for ss in json_string[1]['securities']:\n",
    "    list_price.append(ss['PREVWAPRICE'])\n",
    "\n",
    "# Задаем курсы валют на сегодняшний день (для примера)\n",
    "usd_to_rub_rate = list_price[1]  # курс доллара к рублю\n",
    "eur_to_rub_rate = list_price[0]  # курс евро к рублю\n",
    "\n",
    "def convert_price_rent(text):\n",
    "    if text != 0:\n",
    "        parts = text.split(' ')\n",
    "        amount = float(parts[0])  # получаем количество и преобразуем в float\n",
    "        currency = parts[1]  # получаем тип валюты\n",
    "        \n",
    "        if currency == 'руб.':\n",
    "            result = amount\n",
    "        elif currency == '$':\n",
    "            result = (amount * usd_to_rub_rate)\n",
    "        elif currency == '€':\n",
    "            result = (amount * eur_to_rub_rate)\n",
    "        return int(result)\n",
    "    else:\n",
    "        return int(text)\n",
    "    \n",
    "def convert_price_dep(text):\n",
    "    if text == '0':\n",
    "        result = 0\n",
    "        return int(result)\n",
    "    elif ('€' in text):\n",
    "        text = text.replace('€', \"\")\n",
    "        result = float(text) * eur_to_rub_rate\n",
    "        return int(result)\n",
    "\n",
    "    if len(text.split(' ')) > 1:    \n",
    "        parts = text.split(' ')\n",
    "        amount = float(parts[0])  # получаем количество и преобразуем в float\n",
    "        currency = parts[1]  # получаем тип валюты\n",
    "        \n",
    "        if currency == 'руб.':\n",
    "            result = amount\n",
    "        elif currency == '$':\n",
    "            result = (amount * usd_to_rub_rate)\n",
    "        return int(result)  \n",
    "    else:\n",
    "        return int(text)  \n",
    "    \n",
    "\n",
    "# Применяем функцию convert_price к столбцам 'rent_price' и 'deposit' в DataFrame\n",
    "df['rent_price'] = df['rent_price'].apply(convert_price_rent)\n",
    "df['deposit'] = df['deposit'].apply(convert_price_dep)"
   ]
  },
  {
   "cell_type": "code",
   "execution_count": 343,
   "metadata": {},
   "outputs": [],
   "source": [
    "# Заполняем пропуски в столбце ремонт и переименовываем\n",
    "df['Ремонт']= df['Ремонт'].fillna(df['Ремонт'].mode()[0])\n",
    "df.rename(columns={'Ремонт': 'renovation_type'}, inplace=True)"
   ]
  },
  {
   "cell_type": "code",
   "execution_count": 345,
   "metadata": {},
   "outputs": [],
   "source": [
    "# Обрабатываем колонку \"балкон\"\n",
    "df['Балкон'] = df['Балкон'].fillna('Балкон (0), Лоджия (0)')\n",
    "df['Лоджия'] = [row.split(' ')[-1] if (row.split(' ')[-2]) == 'Лоджия' else '(0)' for row in df['Балкон']]\n",
    "df['Балкон'] = [row.split(' ')[1] if row.split(' ')[0] == 'Балкон' else '(0)' for row in df['Балкон']]"
   ]
  },
  {
   "cell_type": "code",
   "execution_count": 346,
   "metadata": {},
   "outputs": [],
   "source": [
    "# Корректируем значения, избавляясь от скобок и переделывая из str в int\n",
    "df['Лоджия'] = [row.split('(')[1] for row in df['Лоджия']]\n",
    "df['Лоджия'] = [int(row.split(')')[0]) for row in df['Лоджия']]\n",
    "df['Балкон'] = [row.split('(')[1] for row in df['Балкон']]\n",
    "df['Балкон'] = [int(row.split(')')[0]) for row in df['Балкон']]"
   ]
  },
  {
   "cell_type": "code",
   "execution_count": 349,
   "metadata": {},
   "outputs": [],
   "source": [
    "# Переименовываем балкон и лоджия\n",
    "df.rename(columns={'Балкон': 'balcony'}, inplace=True)\n",
    "df.rename(columns={'Лоджия': 'loggia'}, inplace=True)"
   ]
  },
  {
   "cell_type": "code",
   "execution_count": 352,
   "metadata": {},
   "outputs": [],
   "source": [
    "# Заполняем пропуски в окнах и переименовываем\n",
    "df['Окна'] = df['Окна'].fillna(df['Окна'].mode()[0])\n",
    "df.rename(columns={'Окна': 'window'}, inplace=True)"
   ]
  },
  {
   "cell_type": "code",
   "execution_count": 355,
   "metadata": {},
   "outputs": [],
   "source": [
    "# Столбец Санузел разбиваем на два\n",
    "df['Санузел'] = df['Санузел'].fillna(df['Санузел'].mode()[0])\n",
    "df['Санузел совмещенный'] = [row.split(' ')[1] if (row.split(' ')[0]) == 'Совмещенный' else '(0)' for row in df['Санузел']]\n",
    "df['Санузел раздельный'] = [row.split(' ')[-1] if (row.split(' ')[-2]) == 'Раздельный' else '(0)' for row in df['Санузел']]\n",
    "df['Санузел совмещенный'] = [row.split('(')[1] for row in df['Санузел совмещенный']]\n",
    "df['Санузел совмещенный'] = [int(row.split(')')[0]) for row in df['Санузел совмещенный']]\n",
    "df['Санузел раздельный'] = [row.split('(')[1] for row in df['Санузел раздельный']]\n",
    "df['Санузел раздельный'] = [int(row.split(')')[0]) for row in df['Санузел раздельный']]\n",
    "df = df.drop(['Санузел'], axis = 1)"
   ]
  },
  {
   "cell_type": "code",
   "execution_count": 358,
   "metadata": {},
   "outputs": [],
   "source": [
    "# Переименовываем\n",
    "df.rename(columns={'Санузел совмещенный': 'сombined_bath'}, inplace=True)\n",
    "df.rename(columns={'Санузел раздельный': 'separate_bath'}, inplace=True)"
   ]
  },
  {
   "cell_type": "code",
   "execution_count": 361,
   "metadata": {},
   "outputs": [],
   "source": [
    "# Заполняем пропуски в разделе можно с детьми/животными\n",
    "df['Можно с детьми/животными'] = df['Можно с детьми/животными'].fillna(df['Можно с детьми/животными'].mode()[0])\n",
    "df.rename(columns={'Можно с детьми/животными': 'child_pets_allow'}, inplace=True)"
   ]
  },
  {
   "cell_type": "code",
   "execution_count": 364,
   "metadata": {},
   "outputs": [],
   "source": [
    "# Избавляемся от NaN, если меньше 5 этажей - нет лифта, в остальном по одному каждого лифта\n",
    "df['Лифт'] = [row if row == row else\n",
    "              ['Пасс (1), Груз (1)' if df['floors'].iloc[i]>5 else 'Пасс (0), Груз (0)'][0]\n",
    "              for i, row in enumerate(df['Лифт'])]"
   ]
  },
  {
   "cell_type": "code",
   "execution_count": 365,
   "metadata": {},
   "outputs": [],
   "source": [
    "# Разбиваем колонку с лифтами на две раздельные \n",
    "df['Лифт пасс'] = [row.split(' ')[1] if (row.split(' ')[0]) == 'Пасс' else '(0)' for row in df['Лифт']]\n",
    "df['Лифт груз'] = [row.split(' ')[-1] if (row.split(' ')[-2]) == 'Груз' else '(0)' for row in df['Лифт']]"
   ]
  },
  {
   "cell_type": "code",
   "execution_count": 366,
   "metadata": {},
   "outputs": [],
   "source": [
    "# Убираем скобки\n",
    "df['Лифт пасс'] = [row.split('(')[1] for row in df['Лифт пасс']]\n",
    "df['Лифт пасс'] = [int(row.split(')')[0]) for row in df['Лифт пасс']]\n",
    "df['Лифт груз'] = [row.split('(')[1] for row in df['Лифт груз']]\n",
    "df['Лифт груз'] = [int(row.split(')')[0]) for row in df['Лифт груз']]\n",
    "df = df.drop(['Лифт'], axis = 1)"
   ]
  },
  {
   "cell_type": "code",
   "execution_count": 372,
   "metadata": {},
   "outputs": [],
   "source": [
    "# Переименовываем\n",
    "df.rename(columns={'Лифт пасс': 'passenger_lift'}, inplace=True)\n",
    "df.rename(columns={'Лифт груз': 'cargo_lift'}, inplace=True)"
   ]
  },
  {
   "cell_type": "code",
   "execution_count": 375,
   "metadata": {},
   "outputs": [],
   "source": [
    "# Заполняем пропуски в столбце дополнительно\n",
    "df['Дополнительно'] = df['Дополнительно'].fillna(df['Дополнительно'].mode()[0])"
   ]
  },
  {
   "cell_type": "code",
   "execution_count": 378,
   "metadata": {},
   "outputs": [],
   "source": [
    "df.to_csv('data.csv')"
   ]
  },
  {
   "cell_type": "code",
   "execution_count": null,
   "metadata": {},
   "outputs": [],
   "source": []
  }
 ],
 "metadata": {
  "kernelspec": {
   "display_name": "venv",
   "language": "python",
   "name": "python3"
  },
  "language_info": {
   "codemirror_mode": {
    "name": "ipython",
    "version": 3
   },
   "file_extension": ".py",
   "mimetype": "text/x-python",
   "name": "python",
   "nbconvert_exporter": "python",
   "pygments_lexer": "ipython3",
   "version": "3.12.3"
  }
 },
 "nbformat": 4,
 "nbformat_minor": 2
}
